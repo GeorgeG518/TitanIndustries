{
 "cells": [
  {
   "cell_type": "code",
   "execution_count": 1,
   "metadata": {},
   "outputs": [
    {
     "ename": "ModuleNotFoundError",
     "evalue": "No module named 'cv2'",
     "output_type": "error",
     "traceback": [
      "\u001b[1;31m---------------------------------------------------------------------------\u001b[0m",
      "\u001b[1;31mModuleNotFoundError\u001b[0m                       Traceback (most recent call last)",
      "\u001b[1;32m<ipython-input-1-0006f6c3fbab>\u001b[0m in \u001b[0;36m<module>\u001b[1;34m\u001b[0m\n\u001b[0;32m      1\u001b[0m \u001b[1;31m# https://www.earthdatascience.org/courses/intro-to-earth-data-science/file-formats/use-text-files/format-text-with-markdown-jupyter-notebook/\u001b[0m\u001b[1;33m\u001b[0m\u001b[1;33m\u001b[0m\u001b[1;33m\u001b[0m\u001b[0m\n\u001b[1;32m----> 2\u001b[1;33m \u001b[1;32mimport\u001b[0m \u001b[0mcv2\u001b[0m \u001b[1;32mas\u001b[0m \u001b[0mcv\u001b[0m\u001b[1;33m\u001b[0m\u001b[1;33m\u001b[0m\u001b[0m\n\u001b[0m\u001b[0;32m      3\u001b[0m \u001b[1;32mimport\u001b[0m \u001b[0mnumpy\u001b[0m \u001b[1;32mas\u001b[0m \u001b[0mnp\u001b[0m\u001b[1;33m\u001b[0m\u001b[1;33m\u001b[0m\u001b[0m\n\u001b[0;32m      4\u001b[0m \u001b[1;32mimport\u001b[0m \u001b[0mmatplotlib\u001b[0m \u001b[1;32mas\u001b[0m \u001b[0mplt\u001b[0m\u001b[1;33m\u001b[0m\u001b[1;33m\u001b[0m\u001b[0m\n\u001b[0;32m      5\u001b[0m \u001b[0mSAMPLES\u001b[0m \u001b[1;33m=\u001b[0m \u001b[1;36m800\u001b[0m\u001b[1;33m\u001b[0m\u001b[1;33m\u001b[0m\u001b[0m\n",
      "\u001b[1;31mModuleNotFoundError\u001b[0m: No module named 'cv2'"
     ]
    }
   ],
   "source": [
    "# https://www.earthdatascience.org/courses/intro-to-earth-data-science/file-formats/use-text-files/format-text-with-markdown-jupyter-notebook/\n",
    "import cv2 as cv\n",
    "import numpy as np\n",
    "import matplotlib as plt\n",
    "SAMPLES = 800\n",
    "print(cv.__version__)\n",
    "img = cv.imread('img1.jpg')\n",
    "\n"
   ]
  },
  {
   "cell_type": "code",
   "execution_count": null,
   "metadata": {},
   "outputs": [],
   "source": [
    "imgGray = cv.cvtColor(img, cv.COLOR_BGR2GRAY)\n",
    "img_blur = cv.GaussianBlur(imgGray, (3,3), 0)\n",
    "\n",
    "# newlines = np.asarray(lines)\n",
    "# sample = np.random.permutation(np.arange(newlines.shape[0]))[:SAMPLES]\n",
    "# print(newlines.shape)\n",
    "# stratified = np.empty([0,0])\n",
    "# for i,each in enumerate(sample):\n",
    "#     stratified = np.append(stratified, newlines[each])\n",
    "# stratified = np.reshape(stratified, [SAMPLES,1,4])\n",
    "# print(stratified.shape)\n",
    "# stratified = stratified.astype('float32')\n",
    "# drawn_img = lsd.drawSegments(edgeme, stratified)\n",
    "# cv.imshow('',drawn_img)\n",
    "# cv.waitKey(0)\n",
    "hough = np.empty([1,1,4])\n",
    "hough = cv.HoughLinesP(edgeme, 1, np.pi/180, 80, minLineLength=0, maxLineGap=10 )\n",
    "for line in hough:\n",
    "    x1,y1,x2,y2 = line[0]\n",
    "    cv.line(edgeme, (x1,y1),(x2,y2), (255,255,0),1)\n",
    "cv.imshow('',edgeme)\n",
    "cv.waitKey(0)"
   ]
  },
  {
   "cell_type": "code",
   "execution_count": null,
   "metadata": {},
   "outputs": [],
   "source": [
    "## Canny Edge Detection\n",
    "drawn_img=cv.Canny(image=img_blur, threshold1=100, threshold2=200)"
   ]
  },
  {
   "cell_type": "code",
   "execution_count": null,
   "metadata": {},
   "outputs": [],
   "source": [
    "## Line Segment Detector\n",
    "# #Create default parametrization LSD\n",
    "lsd = cv.createLineSegmentDetector(0)\n",
    "#Detect lines in the image\n",
    "lines = lsd.detect(edgeme)[0]\n",
    "#Draw detected lines in the image\n",
    "drawn_img = lsd.drawSegments(edgeme,lines)"
   ]
  },
  {
   "cell_type": "code",
   "execution_count": null,
   "metadata": {},
   "outputs": [],
   "source": [
    "## Line Segment Detector w/Random Sampling\n",
    "# #Create default parametrization LSD\n",
    "lsd = cv.createLineSegmentDetector(0)\n",
    "#Detect lines in the image\n",
    "lines = lsd.detect(edgeme)[0]\n",
    "#Draw detected lines in the image\n",
    "drawn_img = lsd.drawSegments(edgeme,lines)\n",
    "newlines = np.asarray(lines)\n",
    "\n",
    "sample = np.random.permutation(np.arange(newlines.shape[0]))[:SAMPLES]\n",
    "print(newlines.shape)\n",
    "stratified = np.empty([0,0])\n",
    "for i,each in enumerate(sample):\n",
    "     stratified = np.append(stratified, newlines[each])\n",
    "stratified = np.reshape(stratified, [SAMPLES,1,4])\n",
    "print(stratified.shape)\n",
    "stratified = stratified.astype('float32')\n",
    "drawn_img = lsd.drawSegments(edgeme, stratified)"
   ]
  },
  {
   "cell_type": "code",
   "execution_count": null,
   "metadata": {},
   "outputs": [],
   "source": [
    "##Sobel Edges\n",
    "drawn_img = cv.Sobel(src=img_blur, ddepth=cv.CV_64F, dx=1, dy=0, ksize=5)"
   ]
  }
 ],
 "metadata": {
  "kernelspec": {
   "display_name": "Python 3",
   "language": "python",
   "name": "python3"
  },
  "language_info": {
   "codemirror_mode": {
    "name": "ipython",
    "version": 3
   },
   "file_extension": ".py",
   "mimetype": "text/x-python",
   "name": "python",
   "nbconvert_exporter": "python",
   "pygments_lexer": "ipython3",
   "version": "3.8.3"
  }
 },
 "nbformat": 4,
 "nbformat_minor": 4
}
